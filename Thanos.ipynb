{
 "cells": [
  {
   "cell_type": "code",
   "execution_count": 29,
   "id": "2fd0a1d1",
   "metadata": {},
   "outputs": [],
   "source": [
    "def thanos(folder_directory):\n",
    "    \n",
    "    \"\"\"deleting randomly half of the files in the given folder.\n",
    "    thanos(folder directory)\"\"\"\n",
    "    \n",
    "    import os\n",
    "    import random\n",
    "    import time\n",
    "    \n",
    "    folder_directory = r\"\" + folder_directory\n",
    "    \n",
    "    \n",
    "    all_people = os.listdir(folder_directory) # all files in the folder\n",
    "    \n",
    "    victims = random.sample(all_people,(len(all_people)//2)) # the files that will be removed\n",
    "    \n",
    "    print(f\"number of victims = {len(victims)}\\n\") # number of files that will be removed\n",
    "    \n",
    "    for victim in victims:\n",
    "        os.remove(f\"{folder_directory}\\\\{victim}\") # deleting file by file\n",
    "        print(f'the victim ({victim}) has been deleted !!') # showing file's name\n",
    "        time.sleep(1)\n",
    "        \n",
    "    print('\\n')\n",
    "    print('DONE')"
   ]
  },
  {
   "cell_type": "code",
   "execution_count": null,
   "id": "4e39d74d",
   "metadata": {},
   "outputs": [],
   "source": [
    "thanos(r\"\")"
   ]
  },
  {
   "cell_type": "code",
   "execution_count": null,
   "id": "a82472a8",
   "metadata": {},
   "outputs": [],
   "source": []
  }
 ],
 "metadata": {
  "kernelspec": {
   "display_name": "Python 3 (ipykernel)",
   "language": "python",
   "name": "python3"
  },
  "language_info": {
   "codemirror_mode": {
    "name": "ipython",
    "version": 3
   },
   "file_extension": ".py",
   "mimetype": "text/x-python",
   "name": "python",
   "nbconvert_exporter": "python",
   "pygments_lexer": "ipython3",
   "version": "3.11.3"
  }
 },
 "nbformat": 4,
 "nbformat_minor": 5
}
